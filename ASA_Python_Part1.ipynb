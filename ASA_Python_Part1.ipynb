{
  "nbformat": 4,
  "nbformat_minor": 0,
  "metadata": {
    "colab": {
      "name": "ASA_Python_Part1.ipynb",
      "provenance": [],
      "collapsed_sections": [],
      "toc_visible": true,
      "include_colab_link": true
    },
    "kernelspec": {
      "name": "python3",
      "display_name": "Python 3"
    }
  },
  "cells": [
    {
      "cell_type": "markdown",
      "metadata": {
        "id": "view-in-github",
        "colab_type": "text"
      },
      "source": [
        "<a href=\"https://colab.research.google.com/github/KafkaAnonym-Coder/Go-my-code-demoDay-project/blob/master/ASA_Python_Part1.ipynb\" target=\"_parent\"><img src=\"https://colab.research.google.com/assets/colab-badge.svg\" alt=\"Open In Colab\"/></a>"
      ]
    },
    {
      "cell_type": "markdown",
      "metadata": {
        "id": "s-mgnyCqioMp",
        "colab_type": "text"
      },
      "source": [
        "#Introduction Workshop \"Python Part 1\""
      ]
    },
    {
      "cell_type": "markdown",
      "metadata": {
        "id": "BHHtHuOvit2K",
        "colab_type": "text"
      },
      "source": [
        "Ce workshop fait partie du programme \"initiation à l'intelligence artificielle\" développé par la startup Tunisienne FivePoints dans le cadre des ces programmes de formation. \n",
        "\n",
        "Ce workshop est le premier d'une série qui vise à donner aux participants les fondamentaux en python et IA. Les participants mettront ces notions en application au fur et à mesure pour résoudre des problèmatiques de d'IA appliquée à la classification d'image\n",
        "\n",
        "\n",
        "\n",
        "*   **Prérequis :** aucun.\n",
        "*   **Audience :**  session ouverte à tous\n",
        "*   **Dernière mise à jour:** 08/2020\n",
        "\n",
        "\n"
      ]
    },
    {
      "cell_type": "markdown",
      "metadata": {
        "id": "E4jHRAfimDRz",
        "colab_type": "text"
      },
      "source": [
        "#Premiers pas en Python"
      ]
    },
    {
      "cell_type": "markdown",
      "metadata": {
        "id": "TLTXCIdomKBB",
        "colab_type": "text"
      },
      "source": [
        "##Hello World"
      ]
    },
    {
      "cell_type": "code",
      "metadata": {
        "id": "Pya8vBj6lRNx",
        "colab_type": "code",
        "colab": {
          "base_uri": "https://localhost:8080/",
          "height": 34
        },
        "outputId": "e62a0d99-d7da-490b-b2f2-3c58b25d5dcd"
      },
      "source": [
        "print('hello world')"
      ],
      "execution_count": null,
      "outputs": [
        {
          "output_type": "stream",
          "text": [
            "hello world\n"
          ],
          "name": "stdout"
        }
      ]
    },
    {
      "cell_type": "markdown",
      "metadata": {
        "id": "OeTtQCMrmPAl",
        "colab_type": "text"
      },
      "source": [
        "## Assigner une variable"
      ]
    },
    {
      "cell_type": "code",
      "metadata": {
        "id": "j8kJo91T2ItE",
        "colab_type": "code",
        "colab": {
          "base_uri": "https://localhost:8080/",
          "height": 34
        },
        "outputId": "a0ac58be-219f-4ebf-e952-3f6f1d6190af"
      },
      "source": [
        "#définir une chaîne de caractères\n",
        "my_string = \"Hello\"\n",
        "print(my_string)"
      ],
      "execution_count": null,
      "outputs": [
        {
          "output_type": "stream",
          "text": [
            "Hello\n"
          ],
          "name": "stdout"
        }
      ]
    },
    {
      "cell_type": "code",
      "metadata": {
        "id": "O8H_PbpbmRKs",
        "colab_type": "code",
        "colab": {}
      },
      "source": [
        "#Python garde en mémoire la dernière valeur uniquement\n",
        "variable = 'Hello'\n",
        "variable = 4"
      ],
      "execution_count": null,
      "outputs": []
    },
    {
      "cell_type": "code",
      "metadata": {
        "id": "djczaov-mR2u",
        "colab_type": "code",
        "colab": {
          "base_uri": "https://localhost:8080/",
          "height": 34
        },
        "outputId": "ea8c16a3-4665-4409-ed2c-8e6d0c55031b"
      },
      "source": [
        "print(variable)"
      ],
      "execution_count": null,
      "outputs": [
        {
          "output_type": "stream",
          "text": [
            "4\n"
          ],
          "name": "stdout"
        }
      ]
    },
    {
      "cell_type": "code",
      "metadata": {
        "id": "7mgQd8Xx164y",
        "colab_type": "code",
        "colab": {
          "base_uri": "https://localhost:8080/",
          "height": 34
        },
        "outputId": "30b5b5b7-db01-4784-b6ea-d154f1477d76"
      },
      "source": [
        "#connaître le type d'une variable avec la fonction type()\n",
        "ma_variable = \"Afrika Summer Akademy\"\n",
        "type(ma_variable)\n",
        "\n"
      ],
      "execution_count": null,
      "outputs": [
        {
          "output_type": "execute_result",
          "data": {
            "text/plain": [
              "str"
            ]
          },
          "metadata": {
            "tags": []
          },
          "execution_count": 7
        }
      ]
    },
    {
      "cell_type": "code",
      "metadata": {
        "id": "r7v3wLLx3J4D",
        "colab_type": "code",
        "colab": {
          "base_uri": "https://localhost:8080/",
          "height": 34
        },
        "outputId": "f1a8e68c-5a5f-4226-db21-8cbec41156ab"
      },
      "source": [
        "#connaître le type d'une variable avec la fonction type()\n",
        "ma_variable = 4\n",
        "type(ma_variable)"
      ],
      "execution_count": null,
      "outputs": [
        {
          "output_type": "execute_result",
          "data": {
            "text/plain": [
              "int"
            ]
          },
          "metadata": {
            "tags": []
          },
          "execution_count": 8
        }
      ]
    },
    {
      "cell_type": "markdown",
      "metadata": {
        "id": "7zYwz2Ka4r_o",
        "colab_type": "text"
      },
      "source": [
        "##Opérations sur les variables"
      ]
    },
    {
      "cell_type": "markdown",
      "metadata": {
        "id": "xPSz5g_u6hln",
        "colab_type": "text"
      },
      "source": [
        "###Opérations sur des nombres"
      ]
    },
    {
      "cell_type": "code",
      "metadata": {
        "id": "I928Nrm43Zrf",
        "colab_type": "code",
        "colab": {}
      },
      "source": [
        "#opération sur les variables\n",
        "prix_produit_brut = 40\n",
        "\n",
        "#on va supposer que les taxes représentent 10% du produit brut\n",
        "taxe = prix_produit_brut * 0.1\n",
        "\n",
        "#prix final sous la forme du prix brut plus la taxe\n",
        "prix_ttc = prix_produit_brut + taxe\n"
      ],
      "execution_count": null,
      "outputs": []
    },
    {
      "cell_type": "code",
      "metadata": {
        "id": "jD6E9s6K4Juh",
        "colab_type": "code",
        "colab": {
          "base_uri": "https://localhost:8080/",
          "height": 34
        },
        "outputId": "7223d587-babd-4115-e268-1bf18243b846"
      },
      "source": [
        "print(prix_ttc)"
      ],
      "execution_count": null,
      "outputs": [
        {
          "output_type": "stream",
          "text": [
            "44.0\n"
          ],
          "name": "stdout"
        }
      ]
    },
    {
      "cell_type": "code",
      "metadata": {
        "id": "y3QYq9lr4Mgv",
        "colab_type": "code",
        "colab": {
          "base_uri": "https://localhost:8080/",
          "height": 34
        },
        "outputId": "73e86010-c9da-43e7-f223-b0854a42794b"
      },
      "source": [
        "type(prix_ttc)"
      ],
      "execution_count": null,
      "outputs": [
        {
          "output_type": "execute_result",
          "data": {
            "text/plain": [
              "float"
            ]
          },
          "metadata": {
            "tags": []
          },
          "execution_count": 12
        }
      ]
    },
    {
      "cell_type": "markdown",
      "metadata": {
        "id": "muoTKfrh6lY7",
        "colab_type": "text"
      },
      "source": [
        "### Opérations sur des chaînes de caractères"
      ]
    },
    {
      "cell_type": "code",
      "metadata": {
        "id": "2Pw26VKM4coB",
        "colab_type": "code",
        "colab": {}
      },
      "source": [
        "ma_variable = 'Hello World'"
      ],
      "execution_count": null,
      "outputs": []
    },
    {
      "cell_type": "code",
      "metadata": {
        "id": "VlenOPoQ6vb-",
        "colab_type": "code",
        "colab": {}
      },
      "source": [
        "#fonction len() pour évaluer la taille de la variable\n",
        "longueur_variable = len(ma_variable)"
      ],
      "execution_count": null,
      "outputs": []
    },
    {
      "cell_type": "code",
      "metadata": {
        "id": "exocbJxo65RV",
        "colab_type": "code",
        "colab": {
          "base_uri": "https://localhost:8080/",
          "height": 34
        },
        "outputId": "ef1b63b0-f795-48aa-9d20-0b65a0424c39"
      },
      "source": [
        "print(longueur_variable)"
      ],
      "execution_count": null,
      "outputs": [
        {
          "output_type": "stream",
          "text": [
            "11\n"
          ],
          "name": "stdout"
        }
      ]
    },
    {
      "cell_type": "code",
      "metadata": {
        "id": "DIg9lcKK6_Ck",
        "colab_type": "code",
        "colab": {
          "base_uri": "https://localhost:8080/",
          "height": 68
        },
        "outputId": "3c871d55-21a8-4fc0-9585-c9599035db34"
      },
      "source": [
        "#Afficher un élément de la variable\n",
        "print(ma_variable[0]) #premier élément\n",
        "print(ma_variable[10]) #10ème élément\n",
        "print(ma_variable[6]) #6ème élément"
      ],
      "execution_count": null,
      "outputs": [
        {
          "output_type": "stream",
          "text": [
            "H\n",
            "d\n",
            "W\n"
          ],
          "name": "stdout"
        }
      ]
    },
    {
      "cell_type": "code",
      "metadata": {
        "id": "dr3HbJiA8pxA",
        "colab_type": "code",
        "colab": {}
      },
      "source": [
        "#Déclarer une variable avec des espaces au début et à la fin \n",
        "ma_variable = \" Hello World \""
      ],
      "execution_count": null,
      "outputs": []
    },
    {
      "cell_type": "code",
      "metadata": {
        "id": "f01WO0fx7uNj",
        "colab_type": "code",
        "colab": {
          "base_uri": "https://localhost:8080/",
          "height": 35
        },
        "outputId": "0283c05c-b64f-4799-f243-1ebedbc99037"
      },
      "source": [
        "ma_variable.lower() #Minuscule"
      ],
      "execution_count": null,
      "outputs": [
        {
          "output_type": "execute_result",
          "data": {
            "application/vnd.google.colaboratory.intrinsic+json": {
              "type": "string"
            },
            "text/plain": [
              "' hello world '"
            ]
          },
          "metadata": {
            "tags": []
          },
          "execution_count": 30
        }
      ]
    },
    {
      "cell_type": "code",
      "metadata": {
        "id": "RYAxoyHp74Vc",
        "colab_type": "code",
        "colab": {
          "base_uri": "https://localhost:8080/",
          "height": 35
        },
        "outputId": "54df0e8a-7ad1-4580-fa7c-9954e932b734"
      },
      "source": [
        "ma_variable.upper() #Majuscule"
      ],
      "execution_count": null,
      "outputs": [
        {
          "output_type": "execute_result",
          "data": {
            "application/vnd.google.colaboratory.intrinsic+json": {
              "type": "string"
            },
            "text/plain": [
              "' HELLO WORLD '"
            ]
          },
          "metadata": {
            "tags": []
          },
          "execution_count": 31
        }
      ]
    },
    {
      "cell_type": "code",
      "metadata": {
        "id": "xOCfpfk_8j-L",
        "colab_type": "code",
        "colab": {
          "base_uri": "https://localhost:8080/",
          "height": 35
        },
        "outputId": "64855bf5-b771-4127-bbe8-01c24d26c121"
      },
      "source": [
        "ma_variable.strip() #Enlever les espaces eu début et à la fin"
      ],
      "execution_count": null,
      "outputs": [
        {
          "output_type": "execute_result",
          "data": {
            "application/vnd.google.colaboratory.intrinsic+json": {
              "type": "string"
            },
            "text/plain": [
              "'Hello World'"
            ]
          },
          "metadata": {
            "tags": []
          },
          "execution_count": 32
        }
      ]
    },
    {
      "cell_type": "code",
      "metadata": {
        "id": "PDZezYci81EE",
        "colab_type": "code",
        "colab": {
          "base_uri": "https://localhost:8080/",
          "height": 34
        },
        "outputId": "32d43bb8-11b2-4ad8-bcea-4666ab10cf0d"
      },
      "source": [
        "ma_variable.index('Wor') #chercher une chaîne de caractères au sein d'une variable"
      ],
      "execution_count": null,
      "outputs": [
        {
          "output_type": "execute_result",
          "data": {
            "text/plain": [
              "7"
            ]
          },
          "metadata": {
            "tags": []
          },
          "execution_count": 36
        }
      ]
    },
    {
      "cell_type": "code",
      "metadata": {
        "id": "v289tZDr_wui",
        "colab_type": "code",
        "colab": {
          "base_uri": "https://localhost:8080/",
          "height": 34
        },
        "outputId": "5cd32cd3-3774-44ea-f077-bc46e2d57b0c"
      },
      "source": [
        "ma_variable.count('o') #Compter le nombre d'occurences (attention minuscule/majuscule)"
      ],
      "execution_count": null,
      "outputs": [
        {
          "output_type": "execute_result",
          "data": {
            "text/plain": [
              "2"
            ]
          },
          "metadata": {
            "tags": []
          },
          "execution_count": 41
        }
      ]
    },
    {
      "cell_type": "code",
      "metadata": {
        "id": "4siZEHWrB-PQ",
        "colab_type": "code",
        "colab": {
          "base_uri": "https://localhost:8080/",
          "height": 35
        },
        "outputId": "4adf6d67-34bc-46bc-a2d8-f333300e94ca"
      },
      "source": [
        "ma_variable #remarquer que ses opérations ne modifient pas la variable initiale"
      ],
      "execution_count": null,
      "outputs": [
        {
          "output_type": "execute_result",
          "data": {
            "application/vnd.google.colaboratory.intrinsic+json": {
              "type": "string"
            },
            "text/plain": [
              "' Hello World '"
            ]
          },
          "metadata": {
            "tags": []
          },
          "execution_count": 42
        }
      ]
    },
    {
      "cell_type": "markdown",
      "metadata": {
        "id": "FMbXRx2bBv4q",
        "colab_type": "text"
      },
      "source": [
        "Il est possible d'extraire des sous-chaînes ou d'en concaténer plusieurs. "
      ]
    },
    {
      "cell_type": "code",
      "metadata": {
        "id": "Y1Oap4qfAxUC",
        "colab_type": "code",
        "colab": {
          "base_uri": "https://localhost:8080/",
          "height": 35
        },
        "outputId": "5acb3268-32d6-4a2b-9fb0-a2cf4775fcff"
      },
      "source": [
        "#ma_variable[début:fin]\n",
        "ma_variable[7:12]"
      ],
      "execution_count": null,
      "outputs": [
        {
          "output_type": "execute_result",
          "data": {
            "application/vnd.google.colaboratory.intrinsic+json": {
              "type": "string"
            },
            "text/plain": [
              "'World'"
            ]
          },
          "metadata": {
            "tags": []
          },
          "execution_count": 44
        }
      ]
    },
    {
      "cell_type": "code",
      "metadata": {
        "id": "x6PmEym4DML2",
        "colab_type": "code",
        "colab": {
          "base_uri": "https://localhost:8080/",
          "height": 35
        },
        "outputId": "1faf6016-c89e-4bc7-d51a-49c3e009aba3"
      },
      "source": [
        "#indices négatifs pour commencer à compter à partir du dernier élément\n",
        "ma_variable[-6:-1]"
      ],
      "execution_count": null,
      "outputs": [
        {
          "output_type": "execute_result",
          "data": {
            "application/vnd.google.colaboratory.intrinsic+json": {
              "type": "string"
            },
            "text/plain": [
              "'World'"
            ]
          },
          "metadata": {
            "tags": []
          },
          "execution_count": 45
        }
      ]
    },
    {
      "cell_type": "code",
      "metadata": {
        "id": "I_cWrUhOD3n_",
        "colab_type": "code",
        "colab": {}
      },
      "source": [
        "string_1 = 'Hello'\n",
        "string_2 = 'World'\n",
        "nouvelle_variable = string_1 + string_2"
      ],
      "execution_count": null,
      "outputs": []
    },
    {
      "cell_type": "code",
      "metadata": {
        "id": "A8DtHLACEcpt",
        "colab_type": "code",
        "colab": {
          "base_uri": "https://localhost:8080/",
          "height": 34
        },
        "outputId": "e67a47a1-236a-458e-be55-ebe88f983a37"
      },
      "source": [
        "print(nouvelle_variable)"
      ],
      "execution_count": null,
      "outputs": [
        {
          "output_type": "stream",
          "text": [
            "HelloWorld\n"
          ],
          "name": "stdout"
        }
      ]
    },
    {
      "cell_type": "code",
      "metadata": {
        "id": "CrV4B6eDEc56",
        "colab_type": "code",
        "colab": {
          "base_uri": "https://localhost:8080/",
          "height": 34
        },
        "outputId": "ca1736cd-508a-4c87-de96-559a0c47076f"
      },
      "source": [
        "#ajouter un espace\n",
        "nouvelle_variable = string_1 + ' ' + string_2\n",
        "print(nouvelle_variable)"
      ],
      "execution_count": null,
      "outputs": [
        {
          "output_type": "stream",
          "text": [
            "Hello World\n"
          ],
          "name": "stdout"
        }
      ]
    },
    {
      "cell_type": "markdown",
      "metadata": {
        "id": "EpdfPJTFAxs4",
        "colab_type": "text"
      },
      "source": [
        "### Les booléens"
      ]
    },
    {
      "cell_type": "code",
      "metadata": {
        "id": "G5ht5T4pGSrJ",
        "colab_type": "code",
        "colab": {}
      },
      "source": [
        "#créer une variable \"bool\" True et une autre False\n",
        "#A vous"
      ],
      "execution_count": null,
      "outputs": []
    },
    {
      "cell_type": "code",
      "metadata": {
        "id": "vMnE61EuGegV",
        "colab_type": "code",
        "colab": {}
      },
      "source": [
        "#vérifier le type de la variable créée"
      ],
      "execution_count": null,
      "outputs": []
    },
    {
      "cell_type": "code",
      "metadata": {
        "id": "hhvLpGboGjq7",
        "colab_type": "code",
        "colab": {}
      },
      "source": [
        "#Vous devez mettre en place un distributeur automatique.\n",
        "#Il doit vérifier que la somme demandée par le client est inférieure au solde du compte.\n",
        "\n",
        "#créer deux variables, solde et retrait\n",
        "#vérifier que le solde est supérieur au montant du retrait\n",
        "#afficher le résultat de l'évaluation"
      ],
      "execution_count": null,
      "outputs": []
    },
    {
      "cell_type": "markdown",
      "metadata": {
        "id": "S1aigoI-5DtO",
        "colab_type": "text"
      },
      "source": [
        "#Condition if/else"
      ]
    },
    {
      "cell_type": "code",
      "metadata": {
        "id": "IDA0dbr8_v9Z",
        "colab_type": "code",
        "colab": {
          "base_uri": "https://localhost:8080/",
          "height": 34
        },
        "outputId": "fca27c4d-19a5-4efb-f048-2cceb55c4e02"
      },
      "source": [
        "#Utiliser le résultat d'une évaluation pour exécuter un code spécifique\n",
        "variable = 4\n",
        "if type(variable) == int:\n",
        "  carre = variable ** 2\n",
        "  print(carre)"
      ],
      "execution_count": null,
      "outputs": [
        {
          "output_type": "stream",
          "text": [
            "16\n"
          ],
          "name": "stdout"
        }
      ]
    },
    {
      "cell_type": "markdown",
      "metadata": {
        "id": "cTlg1uMZIuiT",
        "colab_type": "text"
      },
      "source": [
        "La structure de base se compose\n",
        "\n",
        "*   d'une condition à vérifier (if) et\n",
        "*   d'un code à exécuter si la condition n'est pas vérifiée (else).\n",
        "\n"
      ]
    },
    {
      "cell_type": "code",
      "metadata": {
        "id": "VG864FBW5Ghb",
        "colab_type": "code",
        "colab": {
          "base_uri": "https://localhost:8080/",
          "height": 34
        },
        "outputId": "46b2d8de-f615-4f93-ff13-c07d411cdcf0"
      },
      "source": [
        "condition = True\n",
        "if condition:\n",
        "  #code à exécuter\n",
        "  #si la condition est vérifiée\n",
        "  print(\"condition vérifiée\")\n",
        "else: \n",
        "  #code à exécuter\n",
        "  #si la condition n'est pas vérifiée\n",
        "  print(\"condition non vérifiée\")"
      ],
      "execution_count": null,
      "outputs": [
        {
          "output_type": "stream",
          "text": [
            "condition vérifiée\n"
          ],
          "name": "stdout"
        }
      ]
    },
    {
      "cell_type": "code",
      "metadata": {
        "id": "KRfUt1joJ0F7",
        "colab_type": "code",
        "colab": {}
      },
      "source": [
        "#Reprenons l'exemple vu ensemble, testez avec une variable int et une variable d'un autre type.\n",
        "variable = 4\n",
        "if type(variable) == int:\n",
        "  carre = variable ** 2\n",
        "  print(carre)\n",
        "else: \n",
        "  #Ajouter un message d'erreur à exécuter si le la condition if n'est pas vérifiée \n",
        "  "
      ],
      "execution_count": null,
      "outputs": []
    },
    {
      "cell_type": "code",
      "metadata": {
        "id": "pQOtkdIoTsbI",
        "colab_type": "code",
        "colab": {
          "base_uri": "https://localhost:8080/",
          "height": 34
        },
        "outputId": "6c5a824c-9f5f-47ba-d92a-3ff0c0e7a195"
      },
      "source": [
        "#elif permet de multiplier les conditions\n",
        "variable = 3.2\n",
        "if type(variable) == int:\n",
        "  carre =  variable ** 2\n",
        "  print(carre)\n",
        "elif type(variable) == float:\n",
        "  print(\"La variable est de type float ; entrez un entier int.\")\n",
        "else: \n",
        "  print(\"Erreur: la variable doit être de type int\")"
      ],
      "execution_count": null,
      "outputs": [
        {
          "output_type": "stream",
          "text": [
            "La variable est de type float ; entrez un entier int.\n"
          ],
          "name": "stdout"
        }
      ]
    },
    {
      "cell_type": "markdown",
      "metadata": {
        "id": "4Qvj98WmT6n5",
        "colab_type": "text"
      },
      "source": [
        "**Exercice d'application**\n",
        "\n",
        "\n",
        "Votre code devra prendre une variable appelée “revenu” et lui assigner une valeur entière qui représente le revenu annuel d'une personne.\n",
        "\n",
        "En fonction de la valeur, déterminer la tranche d’imposition maximale applicable.\n",
        "\n",
        "P.ex.\n",
        "\n",
        "*   revenu = 7000 DT, \n",
        "*   le résultat devrait être: “votre tranche d’imposition maximale est de 26%”\n",
        "\n",
        "Voici un [lien qui détaille présente les tranches d'imposition.](https://www.ilboursa.com/marches/loi-de-finances-2018-bareme-de-limpot-sur-le-revenu-des-personnes-physiques-irpp_12635) \n",
        "\n",
        "\n",
        " "
      ]
    },
    {
      "cell_type": "markdown",
      "metadata": {
        "id": "bMimBb9o5MPM",
        "colab_type": "text"
      },
      "source": [
        "#Créer une fonction"
      ]
    },
    {
      "cell_type": "code",
      "metadata": {
        "id": "ze-FKqof5OW5",
        "colab_type": "code",
        "colab": {}
      },
      "source": [
        "# Votre première fonction\n",
        "def carre(x):\n",
        "  return x ** 2"
      ],
      "execution_count": null,
      "outputs": []
    },
    {
      "cell_type": "code",
      "metadata": {
        "id": "UibrM_rHYSHf",
        "colab_type": "code",
        "colab": {
          "base_uri": "https://localhost:8080/",
          "height": 34
        },
        "outputId": "85de84ef-60d6-4fcb-9a05-ee16e89ab3c9"
      },
      "source": [
        "carre(4)"
      ],
      "execution_count": null,
      "outputs": [
        {
          "output_type": "execute_result",
          "data": {
            "text/plain": [
              "16"
            ]
          },
          "metadata": {
            "tags": []
          },
          "execution_count": 74
        }
      ]
    },
    {
      "cell_type": "code",
      "metadata": {
        "id": "VUTPSs6yYXtE",
        "colab_type": "code",
        "colab": {
          "base_uri": "https://localhost:8080/",
          "height": 34
        },
        "outputId": "f1ca3bc2-a35e-424a-dc8f-e3c8ba701166"
      },
      "source": [
        "variable = 3\n",
        "if type(variable) == int:\n",
        "  variable_carre = carre(variable) #utiliser la fonction carre\n",
        "  print(variable_carre)\n",
        "elif type(variable) == float:\n",
        "  print(\"La variable est de type float ; entrez un entier int.\")\n",
        "else: \n",
        "  print(\"Erreur: la variable doit être de type int\")"
      ],
      "execution_count": null,
      "outputs": [
        {
          "output_type": "stream",
          "text": [
            "9\n"
          ],
          "name": "stdout"
        }
      ]
    },
    {
      "cell_type": "code",
      "metadata": {
        "id": "_CGjTnFpZuLS",
        "colab_type": "code",
        "colab": {}
      },
      "source": [
        "def add(a,b):\n",
        "  #Créer une variable somme\n",
        "  #Et lui assigner le résultat de la somme de a et b\n",
        "  \n",
        "  return somme "
      ],
      "execution_count": null,
      "outputs": []
    },
    {
      "cell_type": "code",
      "metadata": {
        "id": "ODdkS8-tZ4CK",
        "colab_type": "code",
        "colab": {
          "base_uri": "https://localhost:8080/",
          "height": 34
        },
        "outputId": "ddec0f44-0dba-446b-dcf5-be944747c60a"
      },
      "source": [
        "print(add(7,8))"
      ],
      "execution_count": null,
      "outputs": [
        {
          "output_type": "stream",
          "text": [
            "15\n"
          ],
          "name": "stdout"
        }
      ]
    },
    {
      "cell_type": "markdown",
      "metadata": {
        "id": "_ukq3H7laqQW",
        "colab_type": "text"
      },
      "source": [
        "**Exercice d'application : créer une fonction avec une variable**\n",
        "\n",
        "\n",
        "Votre **fonction** devra prendre une variable appelée “revenu” qui représente le revenu annuel d'une personne.\n",
        "\n",
        "En fonction de la valeur, déterminer la tranche d’imposition maximale applicable.\n",
        "\n",
        "P.ex.\n",
        "\n",
        "*   revenu = 7000 DT, \n",
        "*   le résultat devrait être: “votre tranche d’imposition maximale est de 26%”\n",
        "\n",
        "Voici un [lien qui détaille présente les tranches d'imposition.](https://www.ilboursa.com/marches/loi-de-finances-2018-bareme-de-limpot-sur-le-revenu-des-personnes-physiques-irpp_12635) \n",
        "\n",
        "\n",
        " "
      ]
    },
    {
      "cell_type": "code",
      "metadata": {
        "id": "1Ldb2iQobuYL",
        "colab_type": "code",
        "colab": {}
      },
      "source": [
        "#Votre code ici"
      ],
      "execution_count": null,
      "outputs": []
    },
    {
      "cell_type": "markdown",
      "metadata": {
        "id": "g4YjsKdWba4v",
        "colab_type": "text"
      },
      "source": [
        "**Exercice d'application : créer une fonction avec deux variables**\n",
        "\n",
        "\n",
        "Mettre à jour votre fonction pour prendre une variable \"deduction\".\n",
        "\n",
        "Soustraire cette déduction de la valeur des revenus avant de déterminer la tranche d’imposition.\n",
        "\n",
        "P.ex.\n",
        "\n",
        "*   revenu = 7000DT ; déduction de 3000DT \n",
        "*   le résultat devrait être: “votre tranche d’imposition maximale est de 0%”\n",
        "\n",
        "Voici un [lien qui détaille présente les tranches d'imposition.](https://www.ilboursa.com/marches/loi-de-finances-2018-bareme-de-limpot-sur-le-revenu-des-personnes-physiques-irpp_12635) \n",
        "\n",
        "\n",
        " "
      ]
    },
    {
      "cell_type": "code",
      "metadata": {
        "id": "VIDzQ1oEb1UN",
        "colab_type": "code",
        "colab": {}
      },
      "source": [
        "#Votre code ici"
      ],
      "execution_count": null,
      "outputs": []
    },
    {
      "cell_type": "markdown",
      "metadata": {
        "id": "HQjtPTH2fo3-",
        "colab_type": "text"
      },
      "source": [
        "#Structures Avancées "
      ]
    },
    {
      "cell_type": "markdown",
      "metadata": {
        "id": "MjbCxMTL5TAq",
        "colab_type": "text"
      },
      "source": [
        "## Créer et Manipuler des listes"
      ]
    },
    {
      "cell_type": "markdown",
      "metadata": {
        "id": "awa8qYeXd_dJ",
        "colab_type": "text"
      },
      "source": [
        "**Une liste** est une structure de données complexe. Elle peut contenir des objets de même type ou de type hétérogène. On peut avoir une liste de listes (listes imbriquées).\n",
        "\n"
      ]
    },
    {
      "cell_type": "code",
      "metadata": {
        "id": "Zo2cHjUg5VxD",
        "colab_type": "code",
        "colab": {
          "base_uri": "https://localhost:8080/",
          "height": 68
        },
        "outputId": "257e6225-16ee-454d-8748-9a11935137f4"
      },
      "source": [
        "ma_list = [] #créer une liste vide\n",
        "ma_list_str = ['hello', 'bonjour', 'Afrika Summer Akademy']\n",
        "ma_list_mix = ['hello', 1, 3.2, True]\n",
        "\n",
        "print(ma_list)\n",
        "print(ma_list_str)\n",
        "print(ma_list_mix)"
      ],
      "execution_count": null,
      "outputs": [
        {
          "output_type": "stream",
          "text": [
            "[]\n",
            "['hello', 'bonjour', 'Afrika Summer Akademy']\n",
            "['hello', 1, 3.2, True]\n"
          ],
          "name": "stdout"
        }
      ]
    },
    {
      "cell_type": "code",
      "metadata": {
        "id": "k838a-aqen8n",
        "colab_type": "code",
        "colab": {
          "base_uri": "https://localhost:8080/",
          "height": 68
        },
        "outputId": "3630e56f-6908-406d-95a4-5534b02a5447"
      },
      "source": [
        "#La manipulation des listes, comme pour les chaînes de caractères, \n",
        "#se base sur les indices des éléments de la liste\n",
        "ma_list = ['h', 'e', 'llo']\n",
        "\n",
        "print(ma_list[0])\n",
        "print(ma_list[-1])\n",
        "print(ma_list[0] + ma_list[1] + ma_list[2])"
      ],
      "execution_count": null,
      "outputs": [
        {
          "output_type": "stream",
          "text": [
            "h\n",
            "llo\n",
            "hello\n"
          ],
          "name": "stdout"
        }
      ]
    },
    {
      "cell_type": "markdown",
      "metadata": {
        "id": "3QvlizWjhQxB",
        "colab_type": "text"
      },
      "source": [
        "## Fonction range()"
      ]
    },
    {
      "cell_type": "markdown",
      "metadata": {
        "id": "7WqZeJYuhYxK",
        "colab_type": "text"
      },
      "source": [
        "La fonction **range()** permet de générer une liste séquentielle int.\n",
        "Mais range() ne génère pas la liste d’un coup, c’est fait de manière itérative. Pour le forcer à générer toute la liste, il faut utiliser la fonction list(). \n",
        "\n",
        "**Comment utiliser la fonction range() :** range(indice_début, indice_fin, pas)\n",
        "\n"
      ]
    },
    {
      "cell_type": "code",
      "metadata": {
        "id": "hcrH2EXAhWp7",
        "colab_type": "code",
        "colab": {
          "base_uri": "https://localhost:8080/",
          "height": 34
        },
        "outputId": "451740b3-024c-44d0-fec8-5dc9bbb2eba8"
      },
      "source": [
        "list_entier = list(range(10))\n",
        "print(list_entier)"
      ],
      "execution_count": null,
      "outputs": [
        {
          "output_type": "stream",
          "text": [
            "[0, 1, 2, 3, 4, 5, 6, 7, 8, 9]\n"
          ],
          "name": "stdout"
        }
      ]
    },
    {
      "cell_type": "code",
      "metadata": {
        "id": "R4DoxMexhr97",
        "colab_type": "code",
        "colab": {
          "base_uri": "https://localhost:8080/",
          "height": 51
        },
        "outputId": "0caf0ebc-5509-43b5-d559-72f8d770e8f4"
      },
      "source": [
        "print(list(range(0,10)))\n",
        "print(list(range(0,10,2)))"
      ],
      "execution_count": null,
      "outputs": [
        {
          "output_type": "stream",
          "text": [
            "[0, 1, 2, 3, 4, 5, 6, 7, 8, 9]\n",
            "[0, 2, 4, 6, 8]\n"
          ],
          "name": "stdout"
        }
      ]
    },
    {
      "cell_type": "markdown",
      "metadata": {
        "id": "eWu10VNFiJCL",
        "colab_type": "text"
      },
      "source": [
        "##Sous-sequence et manipulation de list"
      ]
    },
    {
      "cell_type": "code",
      "metadata": {
        "id": "qU_Ed6r0hz2P",
        "colab_type": "code",
        "colab": {
          "base_uri": "https://localhost:8080/",
          "height": 35
        },
        "outputId": "2bad1f09-eb2c-43e3-ae2d-450c39e7c3c0"
      },
      "source": [
        "list_entier = list(range(0,50,5))\n",
        "print(list_entier)"
      ],
      "execution_count": null,
      "outputs": [
        {
          "output_type": "stream",
          "text": [
            "[0, 5, 10, 15, 20, 25, 30, 35, 40, 45]\n"
          ],
          "name": "stdout"
        }
      ]
    },
    {
      "cell_type": "code",
      "metadata": {
        "id": "xXhTLyMxnEmL",
        "colab_type": "code",
        "colab": {
          "base_uri": "https://localhost:8080/",
          "height": 90
        },
        "outputId": "430c36f3-2268-4158-a451-90d4e436435b"
      },
      "source": [
        "indice_debut = 1\n",
        "indice_fin = 9\n",
        "pas = 2\n",
        "\n",
        "print(list_entier[:])\n",
        "print(list_entier[indice_debut:indice_fin])\n",
        "print(list_entier[indice_debut:indice_fin:pas])\n",
        "print(list_entier[::-1])"
      ],
      "execution_count": null,
      "outputs": [
        {
          "output_type": "stream",
          "text": [
            "[0, 5, 10, 15, 20, 25, 30, 35, 40, 45]\n",
            "[5, 10, 15, 20, 25, 30, 35, 40]\n",
            "[5, 15, 25, 35]\n",
            "[45, 40, 35, 30, 25, 20, 15, 10, 5, 0]\n"
          ],
          "name": "stdout"
        }
      ]
    },
    {
      "cell_type": "markdown",
      "metadata": {
        "id": "sfFW5-P_pNcs",
        "colab_type": "text"
      },
      "source": [
        "**Exercice Palindrome:** “Se dit d'un mot, d'un vers, d'une phrase que l'on peut lire indifféremment de gauche à droite ou de droite à gauche. (Exemple : le mot ressasser ou la phrase Ésope reste ici et se repose.)” Dictionnaire Larousse\n"
      ]
    },
    {
      "cell_type": "code",
      "metadata": {
        "id": "6sFrtnPsoBGm",
        "colab_type": "code",
        "colab": {}
      },
      "source": [
        "def is_palindrome(liste_ou_mot):\n",
        "  '''\n",
        "  Fonction qui évalue une variable de type string ou list \n",
        "  et détermine si c'est un palindrome ou pas.\n",
        "  Exemples:\n",
        "  is_palindrome('ressasser') -> True\n",
        "  is_palindrome('Afrika Summer Akademy') -> False\n",
        "  is_palindrome(['A', 'S', 'A']]) -> True\n",
        "  '''\n",
        "    #Code à exécuter"
      ],
      "execution_count": null,
      "outputs": []
    },
    {
      "cell_type": "code",
      "metadata": {
        "id": "wCgJJC--qqV1",
        "colab_type": "code",
        "colab": {
          "base_uri": "https://localhost:8080/",
          "height": 108
        },
        "outputId": "d3958c89-a631-4084-845c-2437b5aa7a1c"
      },
      "source": [
        "is_palindrome('ressasser')\n",
        "is_palindrome('Afrika Summer Akademy')\n",
        "is_palindrome(['A', 'S', 'A']) \n",
        "is_palindrome([1, 0, 1]) \n",
        "is_palindrome(3.2) "
      ],
      "execution_count": null,
      "outputs": [
        {
          "output_type": "stream",
          "text": [
            "True\n",
            "False\n",
            "True\n",
            "True\n",
            "Erreur: type invalide (<class 'float'>), essayer avec une chaîne de caractères\n"
          ],
          "name": "stdout"
        }
      ]
    },
    {
      "cell_type": "code",
      "metadata": {
        "id": "xt2sSTbfqsUD",
        "colab_type": "code",
        "colab": {}
      },
      "source": [
        "is_palindrome('Afrika Summer Akademy')"
      ],
      "execution_count": null,
      "outputs": []
    }
  ]
}